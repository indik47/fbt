{
 "cells": [
  {
   "cell_type": "code",
   "execution_count": null,
   "id": "ceef0aad",
   "metadata": {},
   "outputs": [
    {
     "data": {
      "text/plain": [
       "0"
      ]
     },
     "execution_count": 2,
     "metadata": {},
     "output_type": "execute_result"
    }
   ],
   "source": [
    "import sys\n",
    "import subprocess\n",
    "#subprocess.check_call([sys.executable, \"-m\", \"pip\", \"install\", \"moviepy\"])\n",
    "# moviepy should be 1.0.3, not 2.x"
   ]
  },
  {
   "cell_type": "code",
   "execution_count": null,
   "id": "90265aff",
   "metadata": {},
   "outputs": [
    {
     "name": "stdout",
     "output_type": "stream",
     "text": [
      "Requirement already satisfied: moviepy in c:\\users\\denys.oligov\\appdata\\local\\programs\\python\\python311\\lib\\site-packages (2.2.1)\n",
      "Requirement already satisfied: decorator in c:\\users\\denys.oligov\\appdata\\roaming\\python\\python311\\site-packages (5.2.1)\n",
      "Requirement already satisfied: imageio-ffmpeg in c:\\users\\denys.oligov\\appdata\\local\\programs\\python\\python311\\lib\\site-packages (0.6.0)\n",
      "Requirement already satisfied: imageio<3.0,>=2.5 in c:\\users\\denys.oligov\\appdata\\local\\programs\\python\\python311\\lib\\site-packages (from moviepy) (2.37.0)\n",
      "Requirement already satisfied: numpy>=1.25.0 in c:\\users\\denys.oligov\\appdata\\local\\programs\\python\\python311\\lib\\site-packages (from moviepy) (1.26.1)\n",
      "Requirement already satisfied: proglog<=1.0.0 in c:\\users\\denys.oligov\\appdata\\local\\programs\\python\\python311\\lib\\site-packages (from moviepy) (0.1.12)\n",
      "Requirement already satisfied: python-dotenv>=0.10 in c:\\users\\denys.oligov\\appdata\\local\\programs\\python\\python311\\lib\\site-packages (from moviepy) (1.1.1)\n",
      "Requirement already satisfied: pillow<12.0,>=9.2.0 in c:\\users\\denys.oligov\\appdata\\local\\programs\\python\\python311\\lib\\site-packages (from moviepy) (10.3.0)\n",
      "Requirement already satisfied: tqdm in c:\\users\\denys.oligov\\appdata\\local\\programs\\python\\python311\\lib\\site-packages (from proglog<=1.0.0->moviepy) (4.67.1)\n",
      "Requirement already satisfied: colorama in c:\\users\\denys.oligov\\appdata\\roaming\\python\\python311\\site-packages (from tqdm->proglog<=1.0.0->moviepy) (0.4.6)\n",
      "Note: you may need to restart the kernel to use updated packages.\n"
     ]
    },
    {
     "name": "stderr",
     "output_type": "stream",
     "text": [
      "\n",
      "[notice] A new release of pip available: 22.3.1 -> 25.2\n",
      "[notice] To update, run: python.exe -m pip install --upgrade pip\n"
     ]
    }
   ],
   "source": [
    "# Extract audio from a .mov video and save as .mp3\n",
    "\n",
    "# Step 1: Install dependencies (run once)\n",
    "#%pip install moviepy decorator imageio-ffmpeg"
   ]
  },
  {
   "cell_type": "code",
   "execution_count": 3,
   "id": "22faf572",
   "metadata": {},
   "outputs": [],
   "source": [
    "# Step 2: Import library\n",
    "from moviepy.editor import VideoFileClip"
   ]
  },
  {
   "cell_type": "code",
   "execution_count": 1,
   "id": "d57efde5",
   "metadata": {},
   "outputs": [],
   "source": [
    "# Step 3: Define input and output paths\n",
    "input_path = r\"C:\\Users\\denys.oligov\\Videos\\05sumup.mkv\"  # Replace with your .mov file path\n",
    "output_path = r\"C:\\Users\\denys.oligov\\Videos\\05output_audio.mp3\"  # Replace with your desired output path"
   ]
  },
  {
   "cell_type": "code",
   "execution_count": 4,
   "id": "834fc7af",
   "metadata": {},
   "outputs": [],
   "source": [
    "# Step 4: Load the video and extract audio\n",
    "clip = VideoFileClip(input_path)\n",
    "audio = clip.audio"
   ]
  },
  {
   "cell_type": "code",
   "execution_count": 5,
   "id": "4edd96bc",
   "metadata": {},
   "outputs": [
    {
     "name": "stdout",
     "output_type": "stream",
     "text": [
      "MoviePy - Writing audio in C:\\Users\\denys.oligov\\Videos\\05output_audio.mp3\n"
     ]
    },
    {
     "name": "stderr",
     "output_type": "stream",
     "text": [
      "chunk:   0%|          | 0/27468 [00:00<?, ?it/s, now=None]"
     ]
    },
    {
     "name": "stderr",
     "output_type": "stream",
     "text": [
      "                                                                        "
     ]
    },
    {
     "name": "stdout",
     "output_type": "stream",
     "text": [
      "MoviePy - Done.\n",
      "✅ Audio extracted successfully: C:\\Users\\denys.oligov\\Videos\\05output_audio.mp3\n"
     ]
    },
    {
     "name": "stderr",
     "output_type": "stream",
     "text": [
      "\r"
     ]
    }
   ],
   "source": [
    "# Step 5: Write the audio to an .mp3 file\n",
    "audio.write_audiofile(output_path)\n",
    "\n",
    "# Step 6: Cleanup\n",
    "clip.close()\n",
    "audio.close()\n",
    "\n",
    "print(f\"✅ Audio extracted successfully: {output_path}\")"
   ]
  }
 ],
 "metadata": {
  "kernelspec": {
   "display_name": "Python 3",
   "language": "python",
   "name": "python3"
  },
  "language_info": {
   "codemirror_mode": {
    "name": "ipython",
    "version": 3
   },
   "file_extension": ".py",
   "mimetype": "text/x-python",
   "name": "python",
   "nbconvert_exporter": "python",
   "pygments_lexer": "ipython3",
   "version": "3.11.3"
  }
 },
 "nbformat": 4,
 "nbformat_minor": 5
}
