{
 "cells": [
  {
   "cell_type": "code",
   "execution_count": 1,
   "id": "ceef0aad",
   "metadata": {},
   "outputs": [],
   "source": [
    "import sys\n",
    "import subprocess\n",
    "#subprocess.check_call([sys.executable, \"-m\", \"pip\", \"install\", \"moviepy\"])\n",
    "\n",
    "# moviepy should be 1.0.3, not 2.x\n",
    "# Step 2: Import library\n",
    "from moviepy.editor import VideoFileClip"
   ]
  },
  {
   "cell_type": "code",
   "execution_count": null,
   "id": "d57efde5",
   "metadata": {},
   "outputs": [],
   "source": [
    "# Step 3: Define input and output paths\n",
    "input_path = r\"C:\\Users\\denys.oligov\\Videos\\2025-10-30 11-01-27.mkv\"  # Replace with your .mov file path\n",
    "output_path = r\"C:\\Users\\denys.oligov\\Videos\\07output_audio.mp3\"  # Replace with your desired output path"
   ]
  },
  {
   "cell_type": "code",
   "execution_count": 3,
   "id": "834fc7af",
   "metadata": {},
   "outputs": [],
   "source": [
    "# Step 4: Load the video and extract audio\n",
    "clip = VideoFileClip(input_path)\n",
    "audio = clip.audio"
   ]
  },
  {
   "cell_type": "code",
   "execution_count": 4,
   "id": "4edd96bc",
   "metadata": {},
   "outputs": [
    {
     "name": "stdout",
     "output_type": "stream",
     "text": [
      "MoviePy - Writing audio in C:\\Users\\denys.oligov\\Videos\\07output_audio.mp3\n"
     ]
    },
    {
     "name": "stderr",
     "output_type": "stream",
     "text": [
      "                                                                        "
     ]
    },
    {
     "name": "stdout",
     "output_type": "stream",
     "text": [
      "MoviePy - Done.\n",
      "✅ Audio extracted successfully: C:\\Users\\denys.oligov\\Videos\\07output_audio.mp3\n"
     ]
    },
    {
     "name": "stderr",
     "output_type": "stream",
     "text": [
      "\r"
     ]
    }
   ],
   "source": [
    "# Step 5: Write the audio to an .mp3 file\n",
    "audio.write_audiofile(output_path)\n",
    "\n",
    "# Step 6: Cleanup\n",
    "clip.close()\n",
    "audio.close()\n",
    "\n",
    "print(f\"✅ Audio extracted successfully: {output_path}\")"
   ]
  }
 ],
 "metadata": {
  "kernelspec": {
   "display_name": "base",
   "language": "python",
   "name": "python3"
  },
  "language_info": {
   "codemirror_mode": {
    "name": "ipython",
    "version": 3
   },
   "file_extension": ".py",
   "mimetype": "text/x-python",
   "name": "python",
   "nbconvert_exporter": "python",
   "pygments_lexer": "ipython3",
   "version": "3.12.9"
  }
 },
 "nbformat": 4,
 "nbformat_minor": 5
}
